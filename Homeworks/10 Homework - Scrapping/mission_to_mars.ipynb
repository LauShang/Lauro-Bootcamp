{
 "cells": [
  {
   "cell_type": "code",
   "execution_count": 1,
   "metadata": {},
   "outputs": [],
   "source": [
    "from splinter import Browser\n",
    "from bs4 import BeautifulSoup\n",
    "import pandas as pd\n",
    "import requests\n",
    "from splinter import Browser\n",
    "import numpy as np\n",
    "import time"
   ]
  },
  {
   "cell_type": "code",
   "execution_count": 2,
   "metadata": {},
   "outputs": [],
   "source": [
    "url = 'https://mars.nasa.gov/news/?page=0&per_page=40&order=publish_date+desc%2Ccreated_at+desc&search=&category=19%2C165%2C184%2C204&blank_scope=Latest'"
   ]
  },
  {
   "cell_type": "code",
   "execution_count": 3,
   "metadata": {},
   "outputs": [],
   "source": [
    "response = requests.get(url)"
   ]
  },
  {
   "cell_type": "code",
   "execution_count": 4,
   "metadata": {},
   "outputs": [],
   "source": [
    "soup = BeautifulSoup(response.text, 'lxml')"
   ]
  },
  {
   "cell_type": "code",
   "execution_count": 5,
   "metadata": {},
   "outputs": [],
   "source": [
    "title = soup.find(class_='content_title')\n",
    "paragraph = soup.find(class_='rollover_description_inner')"
   ]
  },
  {
   "cell_type": "code",
   "execution_count": 6,
   "metadata": {},
   "outputs": [],
   "source": [
    "title = title.find('a').text\n",
    "paragraph = paragraph.text"
   ]
  },
  {
   "cell_type": "code",
   "execution_count": 7,
   "metadata": {},
   "outputs": [
    {
     "name": "stderr",
     "output_type": "stream",
     "text": [
      "\"which\" no se reconoce como un comando interno o externo,\n",
      "programa o archivo por lotes ejecutable.\n"
     ]
    }
   ],
   "source": [
    "!which chromedriver"
   ]
  },
  {
   "cell_type": "code",
   "execution_count": 21,
   "metadata": {},
   "outputs": [],
   "source": [
    "executable_path = {'executable_path': 'chromedriver.exe'}\n",
    "browser = Browser('chrome', **executable_path, headless=False)\n",
    "url = 'https://www.jpl.nasa.gov/spaceimages/?search=&category=Mars'\n",
    "browser.visit(url)"
   ]
  },
  {
   "cell_type": "code",
   "execution_count": 9,
   "metadata": {},
   "outputs": [],
   "source": [
    "html = browser.html\n",
    "soup = BeautifulSoup(html, 'html.parser')"
   ]
  },
  {
   "cell_type": "code",
   "execution_count": 10,
   "metadata": {
    "scrolled": true
   },
   "outputs": [],
   "source": [
    "images = soup.find_all('a', class_='fancybox')"
   ]
  },
  {
   "cell_type": "code",
   "execution_count": 11,
   "metadata": {},
   "outputs": [],
   "source": [
    "featured_image_url = 'https://www.jpl.nasa.gov/spaceimages/images/largesize/PIA23205_hires.jpg'"
   ]
  },
  {
   "cell_type": "code",
   "execution_count": 12,
   "metadata": {},
   "outputs": [],
   "source": [
    "url = 'https://twitter.com/marswxreport?lang=en'\n",
    "browser.visit(url)"
   ]
  },
  {
   "cell_type": "code",
   "execution_count": 13,
   "metadata": {},
   "outputs": [],
   "source": [
    "html = browser.html\n",
    "soup = BeautifulSoup(html, 'html.parser')\n",
    "weather = soup.find('p',class_='TweetTextSize TweetTextSize--normal js-tweet-text tweet-text')"
   ]
  },
  {
   "cell_type": "code",
   "execution_count": 14,
   "metadata": {},
   "outputs": [],
   "source": [
    "mars_weather = str(weather).split('InSight ')[1].replace('\\n','').split('<a')[0]"
   ]
  },
  {
   "cell_type": "code",
   "execution_count": 15,
   "metadata": {},
   "outputs": [],
   "source": [
    "url = 'https://space-facts.com/mars/'\n",
    "browser.visit(url)"
   ]
  },
  {
   "cell_type": "code",
   "execution_count": 16,
   "metadata": {},
   "outputs": [],
   "source": [
    "html = browser.html\n",
    "soup = BeautifulSoup(html, 'html.parser')\n",
    "facts = soup.find('tbody')"
   ]
  },
  {
   "cell_type": "code",
   "execution_count": 17,
   "metadata": {},
   "outputs": [],
   "source": [
    "facts_dic = str(facts).replace('\\n','').split('<strong>')"
   ]
  },
  {
   "cell_type": "code",
   "execution_count": 18,
   "metadata": {},
   "outputs": [
    {
     "data": {
      "text/plain": [
       "'<tbody><tr class=\"row-1 odd\"><td class=\"column-1\">'"
      ]
     },
     "execution_count": 18,
     "metadata": {},
     "output_type": "execute_result"
    }
   ],
   "source": [
    "facts_dic.pop(0)"
   ]
  },
  {
   "cell_type": "code",
   "execution_count": 64,
   "metadata": {},
   "outputs": [],
   "source": [
    "key = []\n",
    "value = []\n",
    "for d in facts_dic:\n",
    "    text = d.split(':')\n",
    "    k = text[0]\n",
    "    v = text[1].split('mn-2\">')[1].split('<')[0]\n",
    "    key.append(k)\n",
    "    value.append(v)\n",
    "    \n"
   ]
  },
  {
   "cell_type": "code",
   "execution_count": 66,
   "metadata": {},
   "outputs": [
    {
     "data": {
      "text/plain": [
       "['Equatorial_Diameter',\n",
       " 'Polar_Diameter',\n",
       " 'Mass',\n",
       " 'Moons',\n",
       " 'Orbit_Distance',\n",
       " 'Orbit_Period',\n",
       " 'Surface_Temperature',\n",
       " 'First_Record',\n",
       " 'Recorded_By']"
      ]
     },
     "execution_count": 66,
     "metadata": {},
     "output_type": "execute_result"
    }
   ],
   "source": [
    "key_c = []\n",
    "for x in key:\n",
    "    key_c.append(x.replace(' ','_'))"
   ]
  },
  {
   "cell_type": "code",
   "execution_count": 67,
   "metadata": {},
   "outputs": [
    {
     "data": {
      "text/plain": [
       "{'Equatorial_Diameter': '6,792 km',\n",
       " 'Polar_Diameter': '6,752 km',\n",
       " 'Mass': '6.42 x 10^23 kg (10.7% Earth)',\n",
       " 'Moons': '2 (',\n",
       " 'Orbit_Distance': '227,943,824 km (1.52 AU)',\n",
       " 'Orbit_Period': '687 days (1.9 years)',\n",
       " 'Surface_Temperature': '-153 to 20 °C',\n",
       " 'First_Record': '2nd millennium BC',\n",
       " 'Recorded_By': 'Egyptian astronomers'}"
      ]
     },
     "execution_count": 67,
     "metadata": {},
     "output_type": "execute_result"
    }
   ],
   "source": [
    "mars_facts = dict(zip(key_c, value))\n",
    "mars_facts"
   ]
  },
  {
   "cell_type": "code",
   "execution_count": 22,
   "metadata": {},
   "outputs": [],
   "source": [
    "url = 'https://astrogeology.usgs.gov/search/results?q=hemisphere+enhanced&k1=target&v1=Mars'\n",
    "browser.visit(url)\n",
    "#html = browser.html\n",
    "#soup = BeautifulSoup(html, 'html.parser')"
   ]
  },
  {
   "cell_type": "code",
   "execution_count": 23,
   "metadata": {},
   "outputs": [],
   "source": [
    "links_k = ['Cerberus Hemisphere Enhanced','Schiaparelli Hemisphere Enhanced',\n",
    "         'Syrtis Major Hemisphere Enhanced','Valles Marineris Hemisphere Enhanced']\n",
    "links_v = []\n",
    "for x in links_k:\n",
    "    browser.click_link_by_partial_text(x)\n",
    "    time.sleep(5)\n",
    "    html = browser.html\n",
    "    soup = BeautifulSoup(html, 'lxml')\n",
    "    url_links = soup.find('div',class_='downloads')\n",
    "    l = str(url_links.find('a')).split('\"')[1]\n",
    "    browser.back()\n",
    "    links_v.append(l)"
   ]
  },
  {
   "cell_type": "code",
   "execution_count": 58,
   "metadata": {},
   "outputs": [],
   "source": [
    "links_k_c = ['Cerberus_Hemisphere_Enhanced','Schiaparelli_Hemisphere_Enhanced',\n",
    "         'Syrtis_Major_Hemisphere_Enhanced','Valles_Marineris_Hemisphere_Enhanced']\n",
    "links_dict = dict(zip(links_k_c,links_v))"
   ]
  },
  {
   "cell_type": "code",
   "execution_count": 59,
   "metadata": {},
   "outputs": [],
   "source": [
    "hemisphere_image_urls = links_dict"
   ]
  },
  {
   "cell_type": "code",
   "execution_count": 68,
   "metadata": {},
   "outputs": [
    {
     "data": {
      "text/plain": [
       "{'Cerberus_Hemisphere_Enhanced': 'http://astropedia.astrogeology.usgs.gov/download/Mars/Viking/cerberus_enhanced.tif/full.jpg',\n",
       " 'Schiaparelli_Hemisphere_Enhanced': 'http://astropedia.astrogeology.usgs.gov/download/Mars/Viking/schiaparelli_enhanced.tif/full.jpg',\n",
       " 'Syrtis_Major_Hemisphere_Enhanced': 'http://astropedia.astrogeology.usgs.gov/download/Mars/Viking/syrtis_major_enhanced.tif/full.jpg',\n",
       " 'Valles_Marineris_Hemisphere_Enhanced': 'http://astropedia.astrogeology.usgs.gov/download/Mars/Viking/valles_marineris_enhanced.tif/full.jpg'}"
      ]
     },
     "execution_count": 68,
     "metadata": {},
     "output_type": "execute_result"
    }
   ],
   "source": [
    "hemisphere_image_urls"
   ]
  },
  {
   "cell_type": "code",
   "execution_count": 69,
   "metadata": {},
   "outputs": [
    {
     "data": {
      "text/plain": [
       "'sol 177 (2019-05-27) low -100.7ºC (-149.2ºF) high -21.3ºC (-6.4ºF)winds from the SW at 4.2 m/s (9.5 mph) gusting to 17.1 m/s (38.2 mph)pressure at 7.50 hPa'"
      ]
     },
     "execution_count": 69,
     "metadata": {},
     "output_type": "execute_result"
    }
   ],
   "source": [
    "mars_weather"
   ]
  },
  {
   "cell_type": "code",
   "execution_count": 70,
   "metadata": {},
   "outputs": [],
   "source": [
    "news_title = title\n",
    "news_p = paragraph"
   ]
  },
  {
   "cell_type": "code",
   "execution_count": 71,
   "metadata": {},
   "outputs": [
    {
     "name": "stdout",
     "output_type": "stream",
     "text": [
      "\n",
      "Why This Martian Full Moon Looks Like Candy\n",
      " \n",
      "For the first time, NASA's Mars Odyssey orbiter has caught the Martian moon Phobos during a full moon phase. Each color in this new image represents a temperature range detected by Odyssey's infrared camera.\n",
      " https://www.jpl.nasa.gov/spaceimages/images/largesize/PIA23205_hires.jpg sol 177 (2019-05-27) low -100.7ºC (-149.2ºF) high -21.3ºC (-6.4ºF)winds from the SW at 4.2 m/s (9.5 mph) gusting to 17.1 m/s (38.2 mph)pressure at 7.50 hPa {'Equatorial_Diameter': '6,792 km', 'Polar_Diameter': '6,752 km', 'Mass': '6.42 x 10^23 kg (10.7% Earth)', 'Moons': '2 (', 'Orbit_Distance': '227,943,824 km (1.52 AU)', 'Orbit_Period': '687 days (1.9 years)', 'Surface_Temperature': '-153 to 20 °C', 'First_Record': '2nd millennium BC', 'Recorded_By': 'Egyptian astronomers'} {'Cerberus_Hemisphere_Enhanced': 'http://astropedia.astrogeology.usgs.gov/download/Mars/Viking/cerberus_enhanced.tif/full.jpg', 'Schiaparelli_Hemisphere_Enhanced': 'http://astropedia.astrogeology.usgs.gov/download/Mars/Viking/schiaparelli_enhanced.tif/full.jpg', 'Syrtis_Major_Hemisphere_Enhanced': 'http://astropedia.astrogeology.usgs.gov/download/Mars/Viking/syrtis_major_enhanced.tif/full.jpg', 'Valles_Marineris_Hemisphere_Enhanced': 'http://astropedia.astrogeology.usgs.gov/download/Mars/Viking/valles_marineris_enhanced.tif/full.jpg'}\n"
     ]
    }
   ],
   "source": [
    "print(\n",
    "    news_title,\n",
    "    news_p,\n",
    "    featured_image_url,\n",
    "    mars_weather,\n",
    "    mars_facts,\n",
    "    hemisphere_image_urls\n",
    ")"
   ]
  },
  {
   "cell_type": "code",
   "execution_count": 72,
   "metadata": {},
   "outputs": [],
   "source": [
    "x = {'news_title':news_title}\n",
    "y = {'news_p':news_p}\n",
    "z = {'featured_image_url':featured_image_url}\n",
    "q = {'mars_weather':mars_weather}\n",
    "\n",
    "all_data = {**x,**y,**z,**q,**mars_facts,**hemisphere_image_urls}"
   ]
  },
  {
   "cell_type": "code",
   "execution_count": 73,
   "metadata": {},
   "outputs": [
    {
     "data": {
      "text/plain": [
       "dict_keys(['news_title', 'news_p', 'featured_image_url', 'mars_weather', 'Equatorial_Diameter', 'Polar_Diameter', 'Mass', 'Moons', 'Orbit_Distance', 'Orbit_Period', 'Surface_Temperature', 'First_Record', 'Recorded_By', 'Cerberus_Hemisphere_Enhanced', 'Schiaparelli_Hemisphere_Enhanced', 'Syrtis_Major_Hemisphere_Enhanced', 'Valles_Marineris_Hemisphere_Enhanced'])"
      ]
     },
     "execution_count": 73,
     "metadata": {},
     "output_type": "execute_result"
    }
   ],
   "source": [
    "all_data.keys()"
   ]
  },
  {
   "cell_type": "code",
   "execution_count": 35,
   "metadata": {},
   "outputs": [],
   "source": [
    "################# PyMongo ##############"
   ]
  },
  {
   "cell_type": "code",
   "execution_count": 36,
   "metadata": {},
   "outputs": [],
   "source": [
    "import pymongo\n",
    "\n",
    "conn = 'mongodb://localhost:27017'\n",
    "\n",
    "# Pass connection to the pymongo instance.\n",
    "client = pymongo.MongoClient(conn)\n",
    "\n",
    "# Connect to a database. Will create one if not already available.\n",
    "db = client.scrape_mars_db"
   ]
  },
  {
   "cell_type": "code",
   "execution_count": 81,
   "metadata": {},
   "outputs": [
    {
     "data": {
      "text/plain": [
       "<pymongo.results.InsertOneResult at 0x28cfea89d88>"
      ]
     },
     "execution_count": 81,
     "metadata": {},
     "output_type": "execute_result"
    }
   ],
   "source": [
    "db.mars.insert_one(all_data)"
   ]
  },
  {
   "cell_type": "code",
   "execution_count": 83,
   "metadata": {},
   "outputs": [
    {
     "data": {
      "text/plain": [
       "{'_id': ObjectId('5cedfc29a3e84c1b6ca207b6'),\n",
       " 'news_title': '\\nWhy This Martian Full Moon Looks Like Candy\\n',\n",
       " 'news_p': \"\\nFor the first time, NASA's Mars Odyssey orbiter has caught the Martian moon Phobos during a full moon phase. Each color in this new image represents a temperature range detected by Odyssey's infrared camera.\\n\",\n",
       " 'featured_image_url': 'https://www.jpl.nasa.gov/spaceimages/images/largesize/PIA23205_hires.jpg',\n",
       " 'mars_weather': 'so1 m/s (38.2 mph)pressure at 7.50 hPa',\n",
       " 'Equatorial_Diameter': '6,792 km',\n",
       " 'Polar_Diameter': '6,752 km',\n",
       " 'Mass': '6.42 x 10^23 kg (10.7% Earth)',\n",
       " 'Moons': '2 (',\n",
       " 'Orbit_Distance': '227,943,824 km (1.52 AU)',\n",
       " 'Orbit_Period': '687 days (1.9 years)',\n",
       " 'Surface_Temperature': '-153 to 20 °C',\n",
       " 'First_Record': '2nd millennium BC',\n",
       " 'Recorded_By': 'Egyptian astronomers',\n",
       " 'Cerberus_Hemisphere_Enhanced': 'http://astropedia.astrogeology.usgs.gov/download/Mars/Viking/cerberus_enhanced.tif/full.jpg',\n",
       " 'Schiaparelli_Hemisphere_Enhanced': 'http://astropedia.astrogeology.usgs.gov/download/Mars/Viking/schiaparelli_enhanced.tif/full.jpg',\n",
       " 'Syrtis_Major_Hemisphere_Enhanced': 'http://astropedia.astrogeology.usgs.gov/download/Mars/Viking/syrtis_major_enhanced.tif/full.jpg',\n",
       " 'Valles_Marineris_Hemisphere_Enhanced': 'http://astropedia.astrogeology.usgs.gov/download/Mars/Viking/valles_marineris_enhanced.tif/full.jpg'}"
      ]
     },
     "execution_count": 83,
     "metadata": {},
     "output_type": "execute_result"
    }
   ],
   "source": [
    "mars = db.mars.find()\n",
    "z = list(mars)\n",
    "z[0]"
   ]
  },
  {
   "cell_type": "code",
   "execution_count": null,
   "metadata": {},
   "outputs": [],
   "source": []
  }
 ],
 "metadata": {
  "kernelspec": {
   "display_name": "Python 3",
   "language": "python",
   "name": "python3"
  },
  "language_info": {
   "codemirror_mode": {
    "name": "ipython",
    "version": 3
   },
   "file_extension": ".py",
   "mimetype": "text/x-python",
   "name": "python",
   "nbconvert_exporter": "python",
   "pygments_lexer": "ipython3",
   "version": "3.7.0"
  }
 },
 "nbformat": 4,
 "nbformat_minor": 2
}
